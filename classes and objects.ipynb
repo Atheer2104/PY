{
 "cells": [
  {
   "cell_type": "code",
   "execution_count": 9,
   "metadata": {},
   "outputs": [],
   "source": [
    "class Robot:\n",
    "    def __init__(self, name, color, weight):\n",
    "        self.name = name\n",
    "        self.color = color\n",
    "        self.weight = weight\n",
    "    \n",
    "    def introduce_self(self):\n",
    "        print(\"my name is \" + self.name) # self.name is the same as this.name in java"
   ]
  },
  {
   "cell_type": "code",
   "execution_count": 10,
   "metadata": {},
   "outputs": [],
   "source": [
    "r1 = Robot(\"tom\", \"red\", 30)"
   ]
  },
  {
   "cell_type": "code",
   "execution_count": 7,
   "metadata": {},
   "outputs": [
    {
     "name": "stdout",
     "output_type": "stream",
     "text": [
      "my name is tom\n"
     ]
    }
   ],
   "source": [
    "r1.introduce_self()"
   ]
  },
  {
   "cell_type": "code",
   "execution_count": 11,
   "metadata": {},
   "outputs": [],
   "source": [
    "# notice boolean always start with capital letter\n",
    "class Person:\n",
    "    def __init__(self, n, p, i):\n",
    "        self.name = n\n",
    "        self.peronality = p\n",
    "        self.is_sitting = i\n",
    "        \n",
    "    def sit_down(self):\n",
    "        self.is_sitting = True\n",
    "        \n",
    "    def stand_up(self):\n",
    "        self.is_sitting = False"
   ]
  },
  {
   "cell_type": "code",
   "execution_count": null,
   "metadata": {},
   "outputs": [],
   "source": [
    "p1 = Person(\"alice\", \"aggressive\", False)\n",
    "\n",
    "p1.robot_owned = r1"
   ]
  }
 ],
 "metadata": {
  "kernelspec": {
   "display_name": "Python 3",
   "language": "python",
   "name": "python3"
  },
  "language_info": {
   "codemirror_mode": {
    "name": "ipython",
    "version": 3
   },
   "file_extension": ".py",
   "mimetype": "text/x-python",
   "name": "python",
   "nbconvert_exporter": "python",
   "pygments_lexer": "ipython3",
   "version": "3.7.1"
  }
 },
 "nbformat": 4,
 "nbformat_minor": 2
}
