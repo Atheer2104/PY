{
 "cells": [
  {
   "cell_type": "code",
   "execution_count": 1,
   "metadata": {},
   "outputs": [],
   "source": [
    "def cost(b):\n",
    "    # ** 2 means power to 2 \n",
    "    return (b-4) ** 2 "
   ]
  },
  {
   "cell_type": "code",
   "execution_count": 12,
   "metadata": {},
   "outputs": [],
   "source": [
    "def slope(b):\n",
    "    return 2 * (b-4)"
   ]
  },
  {
   "cell_type": "code",
   "execution_count": 13,
   "metadata": {},
   "outputs": [],
   "source": [
    "b = 8"
   ]
  },
  {
   "cell_type": "code",
   "execution_count": 117,
   "metadata": {},
   "outputs": [
    {
     "name": "stdout",
     "output_type": "stream",
     "text": [
      "4.000000000333748\n"
     ]
    }
   ],
   "source": [
    "# b = b - 0.1 * slope(b)\n",
    "b = b - 0.1 * slope(b)\n",
    "print(b)"
   ]
  },
  {
   "cell_type": "code",
   "execution_count": 124,
   "metadata": {},
   "outputs": [
    {
     "name": "stdout",
     "output_type": "stream",
     "text": [
      "5.6\n",
      "5.279999999999999\n",
      "5.023999999999999\n",
      "4.8191999999999995\n",
      "4.65536\n",
      "4.524288\n",
      "4.4194304\n",
      "4.33554432\n",
      "4.268435456000001\n",
      "4.2147483648\n"
     ]
    }
   ],
   "source": [
    "b = 6\n",
    "\n",
    "# training loop\n",
    "for i in range(10):\n",
    "    b = b - 0.1 * slope(b)\n",
    "    print(b)"
   ]
  }
 ],
 "metadata": {
  "kernelspec": {
   "display_name": "Python 3",
   "language": "python",
   "name": "python3"
  },
  "language_info": {
   "codemirror_mode": {
    "name": "ipython",
    "version": 3
   },
   "file_extension": ".py",
   "mimetype": "text/x-python",
   "name": "python",
   "nbconvert_exporter": "python",
   "pygments_lexer": "ipython3",
   "version": "3.7.4"
  }
 },
 "nbformat": 4,
 "nbformat_minor": 2
}
